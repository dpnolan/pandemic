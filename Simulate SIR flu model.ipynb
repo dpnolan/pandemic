{
 "cells": [
  {
   "cell_type": "markdown",
   "id": "8a457333-51d0-4103-9b36-a589fa323914",
   "metadata": {},
   "source": [
    "# Notebook 1: SIR Model Simulation\n",
    "### Peter Nolan \n",
    "### databeaker@gmail.com\n",
    "### https://github.com/dpnolan/pandemic"
   ]
  },
  {
   "cell_type": "markdown",
   "id": "632d3420-8116-4cad-a747-c237017cccce",
   "metadata": {},
   "source": [
    "## Introduction ##\n",
    "\n",
    "SIR epidemic example data generation \n",
    "\n",
    "- S(t) is the number of people susceptible to becoming infected (no immunity)\n",
    "- I(t) is the number of people currently infected (and infectious)\n",
    "- R(t) is the number of recovered people(SIR assumes that they remain immune)\n",
    "- alpha $\\alpha$ is the constant rate of infectious contact between people often called transmission rate\n",
    "- gamma $\\gamma$ is the rate of recovery of infected individuals, 1 over the days to recovery\n",
    "- $R_0$ derived from them"
   ]
  },
  {
   "cell_type": "markdown",
   "id": "53dc7bfa-f927-4427-a5f0-bdadf30dda37",
   "metadata": {},
   "source": [
    "## Setup"
   ]
  },
  {
   "cell_type": "markdown",
   "id": "26e207e6-62e1-403f-a6b1-0f419108d15e",
   "metadata": {},
   "source": [
    "uses kernel __pymc_env_1__ on PC"
   ]
  },
  {
   "cell_type": "code",
   "execution_count": null,
   "id": "a0f21008-1ae1-449b-b24c-94559c4d4fc8",
   "metadata": {},
   "outputs": [],
   "source": [
    "#!conda list --export > requirements.txt"
   ]
  },
  {
   "cell_type": "code",
   "execution_count": 76,
   "id": "ab3421da",
   "metadata": {},
   "outputs": [],
   "source": [
    "import numpy as np\n",
    "import pandas as pd\n",
    "from scipy.integrate import odeint\n",
    "import matplotlib.pyplot as plt"
   ]
  },
  {
   "cell_type": "markdown",
   "id": "7855e36b-7a84-4403-9fd7-ae450f05115a",
   "metadata": {},
   "source": [
    "## Inputs"
   ]
  },
  {
   "cell_type": "code",
   "execution_count": 77,
   "id": "af838f3c-8ea8-479a-b72c-f6f735a87dcd",
   "metadata": {},
   "outputs": [],
   "source": [
    "def simulation(N=4900000, beta=0.5, gamma=1./3, I0=10, R0=0, days=160):\n",
    "    \n",
    "    t = np.linspace(0, days, days)\n",
    "    R_0= (beta*N/gamma)/N\n",
    "    S0 = N - I0 - R0\n",
    "\n",
    "    # Initial conditions vector\n",
    "    y0 = S0, I0, R0\n",
    "    \n",
    "    # Integrate the SIR equations over the time grid, t.\n",
    "    ret = odeint(deriv, y0, t, args=(N, beta, gamma))\n",
    "    S, I, R = ret.T\n",
    "\n",
    "    # Create a DataFrame\n",
    "    sir_df = pd.DataFrame({\n",
    "        \"S\": S,\n",
    "        \"I\": I,\n",
    "        \"R\": R\n",
    "    })\n",
    "    sir_df = sir_df.astype(int)\n",
    "    \n",
    "    return sir_df"
   ]
  },
  {
   "cell_type": "code",
   "execution_count": 78,
   "id": "7f6be2b3",
   "metadata": {},
   "outputs": [],
   "source": [
    "# The SIR model differential equations.\n",
    "def deriv(y, t, N, beta, gamma):\n",
    "    S, I, R = y\n",
    "    dSdt = -beta * S * I / N\n",
    "    dIdt = beta * S * I / N - gamma * I\n",
    "    dRdt = gamma * I\n",
    "    return dSdt, dIdt, dRdt"
   ]
  },
  {
   "cell_type": "code",
   "execution_count": 79,
   "id": "41957d00-37e6-4297-9c0d-164a7d774ada",
   "metadata": {},
   "outputs": [
    {
     "data": {
      "text/html": [
       "<div>\n",
       "<style scoped>\n",
       "    .dataframe tbody tr th:only-of-type {\n",
       "        vertical-align: middle;\n",
       "    }\n",
       "\n",
       "    .dataframe tbody tr th {\n",
       "        vertical-align: top;\n",
       "    }\n",
       "\n",
       "    .dataframe thead th {\n",
       "        text-align: right;\n",
       "    }\n",
       "</style>\n",
       "<table border=\"1\" class=\"dataframe\">\n",
       "  <thead>\n",
       "    <tr style=\"text-align: right;\">\n",
       "      <th></th>\n",
       "      <th>S</th>\n",
       "      <th>I</th>\n",
       "      <th>R</th>\n",
       "    </tr>\n",
       "  </thead>\n",
       "  <tbody>\n",
       "    <tr>\n",
       "      <th>0</th>\n",
       "      <td>4899990</td>\n",
       "      <td>10</td>\n",
       "      <td>0</td>\n",
       "    </tr>\n",
       "    <tr>\n",
       "      <th>1</th>\n",
       "      <td>4899984</td>\n",
       "      <td>11</td>\n",
       "      <td>3</td>\n",
       "    </tr>\n",
       "    <tr>\n",
       "      <th>2</th>\n",
       "      <td>4899978</td>\n",
       "      <td>13</td>\n",
       "      <td>7</td>\n",
       "    </tr>\n",
       "    <tr>\n",
       "      <th>3</th>\n",
       "      <td>4899970</td>\n",
       "      <td>16</td>\n",
       "      <td>13</td>\n",
       "    </tr>\n",
       "    <tr>\n",
       "      <th>4</th>\n",
       "      <td>4899961</td>\n",
       "      <td>19</td>\n",
       "      <td>19</td>\n",
       "    </tr>\n",
       "    <tr>\n",
       "      <th>...</th>\n",
       "      <td>...</td>\n",
       "      <td>...</td>\n",
       "      <td>...</td>\n",
       "    </tr>\n",
       "    <tr>\n",
       "      <th>155</th>\n",
       "      <td>2044256</td>\n",
       "      <td>26</td>\n",
       "      <td>2855716</td>\n",
       "    </tr>\n",
       "    <tr>\n",
       "      <th>156</th>\n",
       "      <td>2044251</td>\n",
       "      <td>23</td>\n",
       "      <td>2855724</td>\n",
       "    </tr>\n",
       "    <tr>\n",
       "      <th>157</th>\n",
       "      <td>2044246</td>\n",
       "      <td>20</td>\n",
       "      <td>2855732</td>\n",
       "    </tr>\n",
       "    <tr>\n",
       "      <th>158</th>\n",
       "      <td>2044242</td>\n",
       "      <td>18</td>\n",
       "      <td>2855738</td>\n",
       "    </tr>\n",
       "    <tr>\n",
       "      <th>159</th>\n",
       "      <td>2044238</td>\n",
       "      <td>16</td>\n",
       "      <td>2855744</td>\n",
       "    </tr>\n",
       "  </tbody>\n",
       "</table>\n",
       "<p>160 rows × 3 columns</p>\n",
       "</div>"
      ],
      "text/plain": [
       "           S   I        R\n",
       "0    4899990  10        0\n",
       "1    4899984  11        3\n",
       "2    4899978  13        7\n",
       "3    4899970  16       13\n",
       "4    4899961  19       19\n",
       "..       ...  ..      ...\n",
       "155  2044256  26  2855716\n",
       "156  2044251  23  2855724\n",
       "157  2044246  20  2855732\n",
       "158  2044242  18  2855738\n",
       "159  2044238  16  2855744\n",
       "\n",
       "[160 rows x 3 columns]"
      ]
     },
     "execution_count": 79,
     "metadata": {},
     "output_type": "execute_result"
    }
   ],
   "source": [
    "simulation_df=simulation()\n",
    "simulation_df"
   ]
  },
  {
   "cell_type": "code",
   "execution_count": 80,
   "id": "a56d9afc-cb37-42be-807b-374ebadc7167",
   "metadata": {},
   "outputs": [],
   "source": [
    "# Plot the data on three separate curves for S(t), I(t) and R(t)\n",
    "def plot_simulation(simulation_df): \n",
    "    S=simulation_df.S\n",
    "    I=simulation_df.I\n",
    "    R=simulation_df.R\n",
    "\n",
    "    days=len(simulation_df['S'])\n",
    "    t = np.linspace(0, days, days)\n",
    "    fig = plt.figure(facecolor='w')\n",
    "    ax = fig.add_subplot(111, axisbelow=True)\n",
    "    ax.plot(t, S, 'b', alpha=0.5, lw=2, label='Susceptible')\n",
    "    ax.plot(t, I, 'r', alpha=0.5, lw=2, label='Infected')\n",
    "    ax.plot(t, R, 'g', alpha=0.5, lw=2, label='Recovered')\n",
    "    ax.set_xlabel('Time')\n",
    "    ax.set_ylabel('People')\n",
    "    ax.set_ylim(0,max(S)*1.2)\n",
    "    ax.yaxis.set_tick_params(length=5)\n",
    "    ax.xaxis.set_tick_params(length=5)\n",
    "    _ = ax.grid(visible=True, which='major', c='w', lw=2, ls='-')\n",
    "    legend = ax.legend()\n",
    "    legend.get_frame().set_alpha(0.5)\n",
    "    "
   ]
  },
  {
   "cell_type": "code",
   "execution_count": 81,
   "id": "b0e5d997-1d0e-443b-abae-d061b732d695",
   "metadata": {},
   "outputs": [
    {
     "data": {
      "image/png": "[encoded data removed]",
      "text/plain": [
       "<Figure size 640x480 with 1 Axes>"
      ]
     },
     "metadata": {},
     "output_type": "display_data"
    }
   ],
   "source": [
    "plot_simulation(simulation_df)\n",
    "plt.savefig('sir1.png')"
   ]
  },
  {
   "cell_type": "code",
   "execution_count": 21,
   "id": "f4d1a65f-f51c-43e7-bb8e-2159a72fb822",
   "metadata": {},
   "outputs": [
    {
     "data": {
      "image/png": "[encoded data removed]",
      "text/plain": [
       "<Figure size 640x480 with 1 Axes>"
      ]
     },
     "metadata": {},
     "output_type": "display_data"
    }
   ],
   "source": [
    "# 2nd simulation\n",
    "simulation2_df=simulation(N=4900000, beta=2, gamma=1./8, I0=10, R0=0, days=160)\n",
    "plot_simulation(simulation2_df)\n",
    "plt.savefig(\"sir2.png\")"
   ]
  },
  {
   "cell_type": "code",
   "execution_count": 38,
   "id": "6561a7f4-ebc6-4ca2-bfc3-1f88ae3dfd95",
   "metadata": {},
   "outputs": [],
   "source": [
    "beta=0.5\n",
    "gamma=1./3\n",
    "N=4.9e6\n",
    "S0=N\n",
    "I0=10\n",
    "R0=0"
   ]
  },
  {
   "cell_type": "code",
   "execution_count": 39,
   "id": "2cb00de5",
   "metadata": {},
   "outputs": [],
   "source": [
    "R_0= (beta*N/gamma)/N"
   ]
  },
  {
   "cell_type": "code",
   "execution_count": 40,
   "id": "5e787f3b",
   "metadata": {},
   "outputs": [
    {
     "data": {
      "text/plain": [
       "1.5"
      ]
     },
     "execution_count": 40,
     "metadata": {},
     "output_type": "execute_result"
    }
   ],
   "source": [
    "R_0"
   ]
  },
  {
   "cell_type": "code",
   "execution_count": 41,
   "id": "342260fc",
   "metadata": {},
   "outputs": [
    {
     "data": {
      "text/plain": [
       "0.33333333333333337"
      ]
     },
     "execution_count": 41,
     "metadata": {},
     "output_type": "execute_result"
    }
   ],
   "source": [
    "1-1/R_0"
   ]
  },
  {
   "cell_type": "code",
   "execution_count": null,
   "id": "0195261f-a729-4528-974b-47a5e2384d3f",
   "metadata": {},
   "outputs": [],
   "source": []
  },
  {
   "cell_type": "code",
   "execution_count": 42,
   "id": "bf81673c",
   "metadata": {},
   "outputs": [],
   "source": [
    "# Initial conditions vector\n",
    "y0 = S0, I0, R0"
   ]
  },
  {
   "cell_type": "code",
   "execution_count": 43,
   "id": "92ae1e2a-360c-49c0-86a1-00eb4483ff27",
   "metadata": {},
   "outputs": [],
   "source": [
    "# Plot the data for I(t)\n",
    "\n",
    "def plot_simulation_infected(simulation_df): \n",
    "    \n",
    "    fig = plt.figure(facecolor='w')\n",
    "    ax = fig.add_subplot(111, axisbelow=True)\n",
    "    #ax = fig.add_subplot(111, facecolor='#dddddd', axisbelow=True)\n",
    "    \n",
    "    days=len(simulation_df['S'])\n",
    "    t=np.linspace(0,days,days)\n",
    "    \n",
    "    ax.plot(t, simulation_df['I'], 'r', alpha=0.5, lw=2, label='Infected')\n",
    "    ax.set_xlabel('Time /days')\n",
    "    ax.set_ylabel('People')\n",
    "    ax.set_ylim(0,max(simulation_df['I'])*1.2)\n",
    "    ax.yaxis.set_tick_params(length=5)\n",
    "    ax.xaxis.set_tick_params(length=5)\n",
    "    _ = ax.grid(visible=True, which='major', c='w', lw=2, ls='-')\n",
    "    \n",
    "    legend = ax.legend()\n",
    "    legend.get_frame().set_alpha(0.5)"
   ]
  },
  {
   "cell_type": "code",
   "execution_count": 44,
   "id": "3816b39b-713a-4255-8658-171e3605aa0d",
   "metadata": {},
   "outputs": [
    {
     "data": {
      "image/png": "[encoded data removed]",
      "text/plain": [
       "<Figure size 640x480 with 1 Axes>"
      ]
     },
     "metadata": {},
     "output_type": "display_data"
    }
   ],
   "source": [
    "plot_simulation_infected(simulation_df)\n",
    "plt.savefig('sir3.png')"
   ]
  },
  {
   "cell_type": "code",
   "execution_count": null,
   "id": "61a8fe76-5aab-418a-b542-cf6ef766c9f9",
   "metadata": {},
   "outputs": [],
   "source": [
    "#sir_df.to_csv(\"sir.csv\", index=False)"
   ]
  },
  {
   "cell_type": "code",
   "execution_count": null,
   "id": "808e8969-f234-477f-bbf1-b4d7bc43201c",
   "metadata": {},
   "outputs": [],
   "source": []
  },
  {
   "cell_type": "markdown",
   "id": "daa5709e-4056-4567-934e-05a7ddb37533",
   "metadata": {},
   "source": [
    "## Generate Statistics "
   ]
  },
  {
   "cell_type": "code",
   "execution_count": 45,
   "id": "abe42f67",
   "metadata": {
    "scrolled": true
   },
   "outputs": [
    {
     "name": "stdout",
     "output_type": "stream",
     "text": [
      "0: S=4,899,990, I=10, R=0\n",
      "1: S=4,899,984, I=11, R=3\n",
      "2: S=4,899,978, I=13, R=7\n",
      "3: S=4,899,970, I=16, R=13\n",
      "4: S=4,899,961, I=19, R=19\n",
      "5: S=4,899,950, I=23, R=26\n",
      "6: S=4,899,937, I=27, R=34\n",
      "7: S=4,899,922, I=32, R=44\n",
      "8: S=4,899,905, I=38, R=56\n",
      "9: S=4,899,884, I=45, R=70\n",
      "10: S=4,899,859, I=53, R=87\n",
      "11: S=4,899,830, I=63, R=106\n",
      "12: S=4,899,795, I=74, R=129\n",
      "13: S=4,899,754, I=88, R=156\n",
      "14: S=4,899,706, I=104, R=189\n",
      "15: S=4,899,648, I=123, R=227\n",
      "16: S=4,899,580, I=146, R=272\n",
      "17: S=4,899,500, I=173, R=326\n",
      "18: S=4,899,406, I=204, R=389\n",
      "19: S=4,899,294, I=241, R=464\n",
      "20: S=4,899,161, I=286, R=552\n",
      "21: S=4,899,004, I=338, R=656\n",
      "22: S=4,898,819, I=400, R=780\n",
      "23: S=4,898,600, I=473, R=926\n",
      "24: S=4,898,341, I=559, R=1,099\n",
      "25: S=4,898,035, I=661, R=1,303\n",
      "26: S=4,897,673, I=781, R=1,545\n",
      "27: S=4,897,244, I=924, R=1,830\n",
      "28: S=4,896,738, I=1,092, R=2,168\n",
      "29: S=4,896,140, I=1,292, R=2,567\n",
      "30: S=4,895,433, I=1,527, R=3,038\n",
      "31: S=4,894,598, I=1,805, R=3,596\n",
      "32: S=4,893,610, I=2,133, R=4,255\n",
      "33: S=4,892,443, I=2,521, R=5,034\n",
      "34: S=4,891,065, I=2,979, R=5,955\n",
      "35: S=4,889,437, I=3,519, R=7,042\n",
      "36: S=4,887,514, I=4,157, R=8,327\n",
      "37: S=4,885,245, I=4,910, R=9,844\n",
      "38: S=4,882,566, I=5,797, R=11,636\n",
      "39: S=4,879,406, I=6,842, R=13,751\n",
      "40: S=4,875,679, I=8,073, R=16,247\n",
      "41: S=4,871,286, I=9,521, R=19,191\n",
      "42: S=4,866,112, I=11,224, R=22,663\n",
      "43: S=4,860,021, I=13,223, R=26,754\n",
      "44: S=4,852,858, I=15,568, R=31,573\n",
      "45: S=4,844,441, I=18,314, R=37,243\n",
      "46: S=4,834,563, I=21,524, R=43,911\n",
      "47: S=4,822,986, I=25,270, R=51,743\n",
      "48: S=4,809,438, I=29,629, R=60,932\n",
      "49: S=4,793,613, I=34,687, R=71,698\n",
      "50: S=4,775,169, I=40,538, R=84,291\n",
      "51: S=4,753,727, I=47,279, R=98,993\n",
      "52: S=4,728,869, I=55,010, R=116,120\n",
      "53: S=4,700,150, I=63,830, R=136,019\n",
      "54: S=4,667,097, I=73,829, R=159,073\n",
      "55: S=4,629,224, I=85,085, R=185,689\n",
      "56: S=4,586,048, I=97,651, R=216,300\n",
      "57: S=4,537,108, I=111,543, R=251,348\n",
      "58: S=4,481,989, I=126,734, R=291,275\n",
      "59: S=4,420,361, I=143,133, R=336,504\n",
      "60: S=4,352,004, I=160,579, R=387,415\n",
      "61: S=4,276,848, I=178,830, R=444,321\n",
      "62: S=4,195,005, I=197,555, R=507,438\n",
      "63: S=4,106,796, I=216,343, R=576,860\n",
      "64: S=4,012,761, I=234,710, R=652,527\n",
      "65: S=3,913,666, I=252,122, R=734,211\n",
      "66: S=3,810,476, I=268,025, R=821,497\n",
      "67: S=3,704,326, I=281,883, R=913,790\n",
      "68: S=3,596,466, I=293,214, R=1,010,319\n",
      "69: S=3,488,198, I=301,632, R=1,110,169\n",
      "70: S=3,380,812, I=306,871, R=1,212,316\n",
      "71: S=3,275,523, I=308,808, R=1,315,667\n",
      "72: S=3,173,420, I=307,463, R=1,419,115\n",
      "73: S=3,075,423, I=302,994, R=1,521,582\n",
      "74: S=2,982,265, I=295,671, R=1,622,063\n",
      "75: S=2,894,485, I=285,856, R=1,719,658\n",
      "76: S=2,812,430, I=273,968, R=1,813,600\n",
      "77: S=2,736,280, I=260,449, R=1,903,269\n",
      "78: S=2,666,062, I=245,744, R=1,988,193\n",
      "79: S=2,601,682, I=230,273, R=2,068,044\n",
      "80: S=2,542,951, I=214,416, R=2,142,631\n",
      "81: S=2,489,610, I=198,507, R=2,211,882\n",
      "82: S=2,441,350, I=182,822, R=2,275,827\n",
      "83: S=2,397,833, I=167,585, R=2,334,580\n",
      "84: S=2,358,707, I=152,969, R=2,388,323\n",
      "85: S=2,323,618, I=139,096, R=2,437,284\n",
      "86: S=2,292,217, I=126,051, R=2,481,730\n",
      "87: S=2,264,171, I=113,882, R=2,521,945\n",
      "88: S=2,239,161, I=102,608, R=2,558,229\n",
      "89: S=2,216,891, I=92,226, R=2,590,881\n",
      "90: S=2,197,085, I=82,716, R=2,620,198\n",
      "91: S=2,179,488, I=74,044, R=2,646,466\n",
      "92: S=2,163,869, I=66,169, R=2,669,960\n",
      "93: S=2,150,017, I=59,042, R=2,690,940\n",
      "94: S=2,137,739, I=52,612, R=2,709,647\n",
      "95: S=2,126,865, I=46,826, R=2,726,308\n",
      "96: S=2,117,237, I=41,633, R=2,741,128\n",
      "97: S=2,108,718, I=36,982, R=2,754,299\n",
      "98: S=2,101,182, I=32,823, R=2,765,993\n",
      "99: S=2,094,519, I=29,111, R=2,776,369\n",
      "100: S=2,088,629, I=25,802, R=2,785,568\n",
      "101: S=2,083,424, I=22,856, R=2,793,719\n",
      "102: S=2,078,825, I=20,236, R=2,800,937\n",
      "103: S=2,074,763, I=17,908, R=2,807,327\n",
      "104: S=2,071,175, I=15,842, R=2,812,981\n",
      "105: S=2,068,007, I=14,010, R=2,817,982\n",
      "106: S=2,065,210, I=12,386, R=2,822,403\n",
      "107: S=2,062,740, I=10,947, R=2,826,312\n",
      "108: S=2,060,560, I=9,672, R=2,829,766\n",
      "109: S=2,058,636, I=8,545, R=2,832,817\n",
      "110: S=2,056,938, I=7,547, R=2,835,513\n",
      "111: S=2,055,440, I=6,665, R=2,837,894\n",
      "112: S=2,054,117, I=5,885, R=2,839,996\n",
      "113: S=2,052,950, I=5,196, R=2,841,852\n",
      "114: S=2,051,921, I=4,587, R=2,843,491\n",
      "115: S=2,051,012, I=4,049, R=2,844,938\n",
      "116: S=2,050,211, I=3,573, R=2,846,214\n",
      "117: S=2,049,504, I=3,154, R=2,847,341\n",
      "118: S=2,048,880, I=2,783, R=2,848,336\n",
      "119: S=2,048,330, I=2,456, R=2,849,213\n",
      "120: S=2,047,844, I=2,167, R=2,849,988\n",
      "121: S=2,047,416, I=1,912, R=2,850,671\n",
      "122: S=2,047,038, I=1,687, R=2,851,274\n",
      "123: S=2,046,705, I=1,488, R=2,851,806\n",
      "124: S=2,046,411, I=1,313, R=2,852,275\n",
      "125: S=2,046,151, I=1,158, R=2,852,689\n",
      "126: S=2,045,922, I=1,022, R=2,853,054\n",
      "127: S=2,045,721, I=901, R=2,853,377\n",
      "128: S=2,045,543, I=795, R=2,853,661\n",
      "129: S=2,045,386, I=701, R=2,853,912\n",
      "130: S=2,045,247, I=618, R=2,854,133\n",
      "131: S=2,045,125, I=546, R=2,854,328\n",
      "132: S=2,045,017, I=481, R=2,854,500\n",
      "133: S=2,044,922, I=424, R=2,854,652\n",
      "134: S=2,044,838, I=374, R=2,854,786\n",
      "135: S=2,044,764, I=330, R=2,854,904\n",
      "136: S=2,044,699, I=291, R=2,855,008\n",
      "137: S=2,044,642, I=257, R=2,855,100\n",
      "138: S=2,044,591, I=226, R=2,855,181\n",
      "139: S=2,044,546, I=200, R=2,855,253\n",
      "140: S=2,044,507, I=176, R=2,855,316\n",
      "141: S=2,044,472, I=155, R=2,855,372\n",
      "142: S=2,044,441, I=137, R=2,855,421\n",
      "143: S=2,044,414, I=121, R=2,855,464\n",
      "144: S=2,044,390, I=106, R=2,855,502\n",
      "145: S=2,044,369, I=94, R=2,855,536\n",
      "146: S=2,044,350, I=83, R=2,855,566\n",
      "147: S=2,044,334, I=73, R=2,855,592\n",
      "148: S=2,044,319, I=64, R=2,855,615\n",
      "149: S=2,044,307, I=57, R=2,855,635\n",
      "150: S=2,044,295, I=50, R=2,855,653\n",
      "151: S=2,044,286, I=44, R=2,855,669\n",
      "152: S=2,044,277, I=39, R=2,855,683\n",
      "153: S=2,044,269, I=34, R=2,855,695\n",
      "154: S=2,044,262, I=30, R=2,855,706\n",
      "155: S=2,044,256, I=26, R=2,855,716\n",
      "156: S=2,044,251, I=23, R=2,855,724\n",
      "157: S=2,044,246, I=20, R=2,855,732\n",
      "158: S=2,044,242, I=18, R=2,855,738\n",
      "159: S=2,044,238, I=16, R=2,855,744\n"
     ]
    }
   ],
   "source": [
    "# Generate the full range \n",
    "for i in range(0, len(simulation_df['S'])):\n",
    "    \n",
    "    print(\"{:,.0f}: S={:,.0f}, I={:,.0f}, R={:,.0f}\".format(i,simulation_df['S'].iloc[i],simulation_df['I'].iloc[i],simulation_df['R'].iloc[i]))"
   ]
  },
  {
   "cell_type": "code",
   "execution_count": 46,
   "id": "b43b027e-e01b-48f4-90bd-1fd9f5a40c92",
   "metadata": {},
   "outputs": [],
   "source": [
    "N=(simulation_df['S'].iloc[-1]+simulation_df['I'].iloc[-1]+simulation_df['R'].iloc[-1])"
   ]
  },
  {
   "cell_type": "code",
   "execution_count": 47,
   "id": "4fbf7528",
   "metadata": {},
   "outputs": [
    {
     "name": "stdout",
     "output_type": "stream",
     "text": [
      "Final number Recovered = 2,855,744\n",
      "Final percentage Infected = 58.28%\n"
     ]
    }
   ],
   "source": [
    "print (\"Final number Recovered = {:,.0f}\".format(simulation_df['R'].iloc[-1]))\n",
    "print (\"Final percentage Infected = {:.2%}\".format((simulation_df['I'].iloc[-1]+simulation_df['R'].iloc[-1])/N))"
   ]
  },
  {
   "cell_type": "code",
   "execution_count": 48,
   "id": "67bb3223",
   "metadata": {},
   "outputs": [
    {
     "name": "stdout",
     "output_type": "stream",
     "text": [
      "Infectious is at the maximum on day 71\n"
     ]
    }
   ],
   "source": [
    "print(\"Infectious is at the maximum on day {:.0f}\".format(simulation_df['I'].argmax()))"
   ]
  },
  {
   "cell_type": "code",
   "execution_count": 49,
   "id": "73a91757",
   "metadata": {},
   "outputs": [
    {
     "name": "stdout",
     "output_type": "stream",
     "text": [
      "Maximum number Infected = 308,808\n",
      "Maximum percentage Infected = 6.30%\n"
     ]
    }
   ],
   "source": [
    "print(\"Maximum number Infected = {:,.0f}\".format(max(simulation_df['I'])))\n",
    "print(\"Maximum percentage Infected = {:,.2%}\".format(max(simulation_df['I'])/N))"
   ]
  },
  {
   "cell_type": "code",
   "execution_count": 50,
   "id": "759775f8-886c-45dc-b809-f5803143ace5",
   "metadata": {},
   "outputs": [],
   "source": [
    "alpha=0.5\n",
    "beta=1/3"
   ]
  },
  {
   "cell_type": "code",
   "execution_count": 51,
   "id": "3d1087db-a6dc-4362-b43f-8da23b332e38",
   "metadata": {},
   "outputs": [
    {
     "data": {
      "text/plain": [
       "1.5"
      ]
     },
     "execution_count": 51,
     "metadata": {},
     "output_type": "execute_result"
    }
   ],
   "source": [
    "R_0=alpha/(beta)\n",
    "R_0"
   ]
  },
  {
   "cell_type": "code",
   "execution_count": 52,
   "id": "20e0a4bf",
   "metadata": {},
   "outputs": [
    {
     "name": "stdout",
     "output_type": "stream",
     "text": [
      "Herd Immunity Threshold (HIT) = 33.333%\n"
     ]
    }
   ],
   "source": [
    "print(\"Herd Immunity Threshold (HIT) = {:.3%}\".format(1-1/R_0))"
   ]
  },
  {
   "cell_type": "code",
   "execution_count": 53,
   "id": "7a19ec36",
   "metadata": {},
   "outputs": [
    {
     "name": "stdout",
     "output_type": "stream",
     "text": [
      "Infectious once herd immunity is reached is = 33.33%\n",
      "Infectious once herd immunity is reached is = 1,633,333\n"
     ]
    }
   ],
   "source": [
    "print(\"Infectious once herd immunity is reached is = {0:,.2%}\".format((1-1/R_0)))\n",
    "print(\"Infectious once herd immunity is reached is = {0:,.0f}\".format((1-1/R_0)*N))"
   ]
  },
  {
   "cell_type": "code",
   "execution_count": 54,
   "id": "6d3e4886",
   "metadata": {},
   "outputs": [
    {
     "data": {
      "text/plain": [
       "-0.2231435513142097"
      ]
     },
     "execution_count": 54,
     "metadata": {},
     "output_type": "execute_result"
    }
   ],
   "source": [
    "np.log(.8)"
   ]
  },
  {
   "cell_type": "code",
   "execution_count": 55,
   "id": "a77a18c8",
   "metadata": {},
   "outputs": [],
   "source": [
    "R_n = (R_0 * simulation_df['S'] / N)"
   ]
  },
  {
   "cell_type": "code",
   "execution_count": 56,
   "id": "2e5a6a5d",
   "metadata": {},
   "outputs": [
    {
     "data": {
      "text/plain": [
       "0      1.499998\n",
       "1      1.499996\n",
       "2      1.499994\n",
       "3      1.499991\n",
       "4      1.499989\n",
       "         ...   \n",
       "155    0.625793\n",
       "156    0.625791\n",
       "157    0.625790\n",
       "158    0.625789\n",
       "159    0.625787\n",
       "Name: S, Length: 160, dtype: float64"
      ]
     },
     "execution_count": 56,
     "metadata": {},
     "output_type": "execute_result"
    }
   ],
   "source": [
    "R_n"
   ]
  },
  {
   "cell_type": "code",
   "execution_count": 59,
   "id": "85286906-c74a-4729-9b19-b2ba00e5d8a7",
   "metadata": {},
   "outputs": [
    {
     "data": {
      "image/png": "[encoded data removed]",
      "text/plain": [
       "<Figure size 640x480 with 1 Axes>"
      ]
     },
     "metadata": {},
     "output_type": "display_data"
    }
   ],
   "source": [
    "# Plot the data for R_n\n",
    "\n",
    "fig = plt.figure(facecolor='w')\n",
    "ax = fig.add_subplot(111, axisbelow=True)\n",
    "\n",
    "#ax = fig.add_subplot(111, facecolor='#dddddd', axisbelow=True)\n",
    "\n",
    "days=len(simulation_df['S'])\n",
    "t=np.linspace(0,days,days)\n",
    "\n",
    "ax.plot(t, R_n, alpha=0.5, lw=2, label='R_n')\n",
    "ax.set_xlabel('Time /days')\n",
    "ax.set_ylabel('R_n')\n",
    "ax.set_ylim(0,max(R_n)*1.2)\n",
    "ax.yaxis.set_tick_params(length=5)\n",
    "ax.xaxis.set_tick_params(length=5)\n",
    "_ = ax.grid(visible=True, which='major', c='w', lw=2, ls='-')\n",
    "legend = ax.legend()\n",
    "legend.get_frame().set_alpha(0.5)\n",
    "plt.savefig('sir4.png')"
   ]
  },
  {
   "cell_type": "code",
   "execution_count": 64,
   "id": "6e0ff5f3",
   "metadata": {},
   "outputs": [
    {
     "data": {
      "text/plain": [
       "0     1.499998\n",
       "1     1.499996\n",
       "2     1.499994\n",
       "3     1.499991\n",
       "4     1.499989\n",
       "        ...   \n",
       "67    1.133978\n",
       "68    1.100959\n",
       "69    1.067816\n",
       "70    1.034943\n",
       "71    1.002712\n",
       "Name: S, Length: 72, dtype: float64"
      ]
     },
     "execution_count": 64,
     "metadata": {},
     "output_type": "execute_result"
    }
   ],
   "source": [
    "R_n[R_n>1]"
   ]
  },
  {
   "cell_type": "code",
   "execution_count": 65,
   "id": "65d2e980",
   "metadata": {},
   "outputs": [
    {
     "data": {
      "text/plain": [
       "72"
      ]
     },
     "execution_count": 65,
     "metadata": {},
     "output_type": "execute_result"
    }
   ],
   "source": [
    "(R_n>1).sum()"
   ]
  },
  {
   "cell_type": "code",
   "execution_count": 66,
   "id": "92bf10c3",
   "metadata": {},
   "outputs": [
    {
     "name": "stdout",
     "output_type": "stream",
     "text": [
      "3,075,423\n"
     ]
    }
   ],
   "source": [
    "print(\"{:,.0f}\".format(simulation_df['S'][73]))"
   ]
  },
  {
   "cell_type": "code",
   "execution_count": 67,
   "id": "db65b1c1",
   "metadata": {},
   "outputs": [
    {
     "name": "stdout",
     "output_type": "stream",
     "text": [
      "2,982,265\n"
     ]
    }
   ],
   "source": [
    "print(\"{:,.0f}\".format(simulation_df['S'][74]))"
   ]
  },
  {
   "cell_type": "code",
   "execution_count": 68,
   "id": "c2a1e961",
   "metadata": {},
   "outputs": [
    {
     "name": "stdout",
     "output_type": "stream",
     "text": [
      "62.764%\n"
     ]
    }
   ],
   "source": [
    "print(\"{:,.3%}\".format(simulation_df['S'][73]/N))"
   ]
  },
  {
   "cell_type": "code",
   "execution_count": 69,
   "id": "74cd1d2d",
   "metadata": {},
   "outputs": [
    {
     "name": "stdout",
     "output_type": "stream",
     "text": [
      "60.863%\n"
     ]
    }
   ],
   "source": [
    "print(\"{:,.3%}\".format(simulation_df['S'][74]/N))"
   ]
  },
  {
   "cell_type": "code",
   "execution_count": 70,
   "id": "45851652",
   "metadata": {},
   "outputs": [
    {
     "data": {
      "text/plain": [
       "0.9414564046760835"
      ]
     },
     "execution_count": 70,
     "metadata": {},
     "output_type": "execute_result"
    }
   ],
   "source": [
    "R_n[73]"
   ]
  },
  {
   "cell_type": "code",
   "execution_count": 71,
   "id": "e6a0e1bf",
   "metadata": {},
   "outputs": [
    {
     "data": {
      "text/plain": [
       "0.912938637934138"
      ]
     },
     "execution_count": 71,
     "metadata": {},
     "output_type": "execute_result"
    }
   ],
   "source": [
    "R_n[74]"
   ]
  },
  {
   "cell_type": "markdown",
   "id": "f21adf34",
   "metadata": {},
   "source": [
    "# Section 4: COVID in Ireland"
   ]
  },
  {
   "cell_type": "markdown",
   "id": "79c0af67",
   "metadata": {},
   "source": [
    "## IRELAND estimate for max COVID infections without controls "
   ]
  },
  {
   "cell_type": "code",
   "execution_count": 72,
   "id": "739f17f0",
   "metadata": {},
   "outputs": [],
   "source": [
    "IRELAND_R0=2.9\n",
    "\n",
    "IRELAND_IFR=1/200\n",
    "\n",
    "IRELAND_N=4900000"
   ]
  },
  {
   "cell_type": "code",
   "execution_count": 73,
   "id": "6a5aaeb5",
   "metadata": {},
   "outputs": [
    {
     "name": "stdout",
     "output_type": "stream",
     "text": [
      "% Infected under herd immunity = 65.52%\n",
      "Infected under herd immunity = 3,210,345\n",
      "Deaths with no interventions = 16,052\n"
     ]
    }
   ],
   "source": [
    "print(\"% Infected under herd immunity = {0:,.2%}\".format((1-1/IRELAND_R0)))\n",
    "\n",
    "print(\"Infected under herd immunity = {0:,.0f}\".format((1-1/IRELAND_R0)*IRELAND_N))\n",
    "\n",
    "print(\"Deaths with no interventions = {0:,.0f}\".format((1-1/IRELAND_R0)*IRELAND_IFR*IRELAND_N))"
   ]
  },
  {
   "cell_type": "markdown",
   "id": "0607a45b",
   "metadata": {},
   "source": [
    "## UK estimate for max COVID infections without controls "
   ]
  },
  {
   "cell_type": "markdown",
   "id": "3b097fb7",
   "metadata": {},
   "source": [
    "COVID R_0 = __2.9__ and Infection Fatality Rate estimates early in the pandemic of __1.15%__ both come from Spiegelhalter and Masters (2021)"
   ]
  },
  {
   "cell_type": "code",
   "execution_count": 74,
   "id": "d387b7e7",
   "metadata": {},
   "outputs": [],
   "source": [
    "UK_R0=2.4\n",
    "UK_IFR=1.15/100\n",
    "UK_N=67.33e6"
   ]
  },
  {
   "cell_type": "code",
   "execution_count": 75,
   "id": "b995aba8",
   "metadata": {},
   "outputs": [
    {
     "name": "stdout",
     "output_type": "stream",
     "text": [
      "% Infectious under herd immunity = 58.33%\n",
      "Infectious under herd immunity = 39,275,833\n",
      "Deaths with no interventions = 451,672\n"
     ]
    }
   ],
   "source": [
    "print(\"% Infectious under herd immunity = {0:,.2%}\".format((1-1/UK_R0)))\n",
    "print(\"Infectious under herd immunity = {0:,.0f}\".format((1-1/UK_R0)*UK_N))\n",
    "print(\"Deaths with no interventions = {0:,.0f}\".format((1-1/UK_R0)* UK_IFR * UK_N))"
   ]
  }
 ],
 "metadata": {
  "kernelspec": {
   "display_name": "pymc_env_1",
   "language": "python",
   "name": "pymc_env_1"
  },
  "language_info": {
   "codemirror_mode": {
    "name": "ipython",
    "version": 3
   },
   "file_extension": ".py",
   "mimetype": "text/x-python",
   "name": "python",
   "nbconvert_exporter": "python",
   "pygments_lexer": "ipython3",
   "version": "3.11.9"
  }
 },
 "nbformat": 4,
 "nbformat_minor": 5
}
